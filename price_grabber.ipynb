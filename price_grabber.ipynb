{
 "cells": [
  {
   "cell_type": "code",
   "execution_count": 40,
   "metadata": {},
   "outputs": [],
   "source": [
    "from coinbase.wallet.client import Client \n",
    "import requests\n",
    "import time \n",
    "import os\n",
    "from dotenv import load_dotenv\n",
    "import psycopg2\n",
    "from datetime import datetime \n",
    "from email.utils import parsedate_to_datetime\n",
    "import pytz\n"
   ]
  },
  {
   "cell_type": "code",
   "execution_count": 25,
   "metadata": {},
   "outputs": [
    {
     "data": {
      "text/plain": [
       "True"
      ]
     },
     "execution_count": 25,
     "metadata": {},
     "output_type": "execute_result"
    }
   ],
   "source": [
    "load_dotenv('./.env')\n"
   ]
  },
  {
   "cell_type": "code",
   "execution_count": 26,
   "metadata": {},
   "outputs": [],
   "source": [
    "api_key = os.getenv(\"api_key\")\n",
    "api_secret = os.getenv(\"api_secret\")\n",
    "db_host = os.getenv(\"DB_HOST\")\n",
    "db_port = os.getenv(\"DB_PORT\")\n",
    "db_name = os.getenv(\"DB_NAME\")\n",
    "db_user = os.getenv(\"DB_USER\")\n",
    "db_password = os.getenv(\"DB_PASSWORD\")\n"
   ]
  },
  {
   "cell_type": "markdown",
   "metadata": {},
   "source": []
  },
  {
   "cell_type": "code",
   "execution_count": 56,
   "metadata": {},
   "outputs": [],
   "source": [
    "#creating connection to railway postgres db: \n",
    "connection = psycopg2.connect(\n",
    "        host = db_host, \n",
    "        database = db_name, \n",
    "        user = db_user, \n",
    "        password = db_password, \n",
    "        port = db_port\n",
    "    )\n",
    "\n",
    "    #initializing cursor\n",
    "cursor = connection.cursor() "
   ]
  },
  {
   "cell_type": "code",
   "execution_count": 28,
   "metadata": {},
   "outputs": [],
   "source": [
    "cursor.execute(\"SELECT 1;\")"
   ]
  },
  {
   "cell_type": "code",
   "execution_count": 29,
   "metadata": {},
   "outputs": [],
   "source": [
    "result = cursor.fetchone()"
   ]
  },
  {
   "cell_type": "code",
   "execution_count": 30,
   "metadata": {},
   "outputs": [
    {
     "name": "stdout",
     "output_type": "stream",
     "text": [
      "(1,)\n"
     ]
    }
   ],
   "source": [
    "print(result) # connection is active "
   ]
  },
  {
   "cell_type": "code",
   "execution_count": 31,
   "metadata": {},
   "outputs": [],
   "source": [
    "#establishing connection to coinbase API\n",
    "client = Client(api_key, api_secret)\n",
    "\n",
    "#pulling price data for ethereum and bitcoin \n",
    "price_eth = client.get_spot_price(currency_pair= \"ETH-USD\")\n",
    "price_btc = client.get_spot_price(currency_pair= \"BTC-USD\")\n",
    "price_near = client.get_spot_price(currency_pair= \"NEAR-USD\")\n",
    "\n",
    "#adding timestamp to dictionaries \n",
    "\n",
    "#price_eth[\"datetime\"] = datetime.now() \n",
    "#price_btc[\"datetime\"] = datetime.now() \n",
    " \n"
   ]
  },
  {
   "cell_type": "code",
   "execution_count": 62,
   "metadata": {},
   "outputs": [],
   "source": [
    "def spot_price(client, c_pair): \n",
    "    return client.get_spot_price(currency_pair = c_pair)"
   ]
  },
  {
   "cell_type": "code",
   "execution_count": 63,
   "metadata": {},
   "outputs": [],
   "source": [
    "coins = ['BTC-USD', 'ETH-USD', 'NEAR-USD']"
   ]
  },
  {
   "cell_type": "code",
   "execution_count": 64,
   "metadata": {},
   "outputs": [],
   "source": [
    "prices = {i: spot_price(client, i) for i in coins}\n"
   ]
  },
  {
   "cell_type": "code",
   "execution_count": 65,
   "metadata": {},
   "outputs": [],
   "source": [
    "prices[\"datetime\"] = datetime.now()"
   ]
  },
  {
   "cell_type": "code",
   "execution_count": 67,
   "metadata": {},
   "outputs": [
    {
     "data": {
      "text/plain": [
       "<APIObject @ 0x7fdf81b87100> {\n",
       "  \"amount\": \"34689.095\",\n",
       "  \"base\": \"BTC\",\n",
       "  \"currency\": \"USD\"\n",
       "}"
      ]
     },
     "execution_count": 67,
     "metadata": {},
     "output_type": "execute_result"
    }
   ],
   "source": [
    "prices['BTC-USD']"
   ]
  },
  {
   "cell_type": "code",
   "execution_count": 33,
   "metadata": {},
   "outputs": [],
   "source": [
    "btc_dict = {\"datetime\": datetime.now(), \n",
    "            \"base\": price_btc[\"base\"],\n",
    "            \"amount\": price_btc[\"amount\"], \n",
    "            \"currency\": price_btc[\"currency\"]}\n",
    "\n",
    "eth_dict = {\"datetime\": datetime.now(), \n",
    "            \"base\": price_eth[\"base\"],\n",
    "            \"amount\": price_eth[\"amount\"], \n",
    "            \"currency\": price_eth[\"currency\"]}\n",
    "\n",
    "near_dict = {\"datetime\": datetime.now(), \n",
    "            \"base\": price_near[\"base\"],\n",
    "            \"amount\": price_near[\"amount\"], \n",
    "            \"currency\": price_near[\"currency\"]}\n",
    "            "
   ]
  },
  {
   "cell_type": "code",
   "execution_count": 34,
   "metadata": {},
   "outputs": [
    {
     "data": {
      "text/plain": [
       "{'datetime': datetime.datetime(2023, 11, 7, 8, 19, 23, 828365),\n",
       " 'base': 'NEAR',\n",
       " 'amount': '1.459',\n",
       " 'currency': 'USD'}"
      ]
     },
     "execution_count": 34,
     "metadata": {},
     "output_type": "execute_result"
    }
   ],
   "source": [
    "near_dict"
   ]
  },
  {
   "cell_type": "code",
   "execution_count": 13,
   "metadata": {},
   "outputs": [],
   "source": [
    "table_schema_btc = (\"\"\"\n",
    "                    CREATE TABLE IF NOT EXISTS bitcoin\n",
    "                    (id serial PRIMARY KEY, \n",
    "                     datetime timestamp, \n",
    "                     base varchar(10), \n",
    "                     amount numeric(10,4),\n",
    "                     currency char(3));\n",
    "                    \"\"\")"
   ]
  },
  {
   "cell_type": "code",
   "execution_count": 14,
   "metadata": {},
   "outputs": [],
   "source": [
    "cursor.execute(table_schema_btc)"
   ]
  },
  {
   "cell_type": "code",
   "execution_count": 63,
   "metadata": {},
   "outputs": [],
   "source": [
    "connection.commit()"
   ]
  },
  {
   "cell_type": "code",
   "execution_count": 15,
   "metadata": {},
   "outputs": [],
   "source": [
    "insert_query = \"\"\" INSERT INTO bitcoin (datetime, base, amount, currency)\n",
    "VALUES (%(datetime)s, %(base)s, %(amount)s, %(currency)s);\n",
    "\"\"\""
   ]
  },
  {
   "cell_type": "code",
   "execution_count": 16,
   "metadata": {},
   "outputs": [],
   "source": [
    "cursor.execute(insert_query, btc_dict)"
   ]
  },
  {
   "cell_type": "code",
   "execution_count": 17,
   "metadata": {},
   "outputs": [],
   "source": [
    "connection.commit()"
   ]
  },
  {
   "cell_type": "code",
   "execution_count": 23,
   "metadata": {},
   "outputs": [],
   "source": [
    "#now trying ethereum table and insert statement \n",
    "table_schema_eth = (\"\"\"\n",
    "                    CREATE TABLE IF NOT EXISTS ethereum\n",
    "                    (id serial PRIMARY KEY, \n",
    "                     datetime timestamp, \n",
    "                     base char(3), \n",
    "                     amount numeric(10,4),\n",
    "                     currency char(3));\n",
    "                    \"\"\")\n",
    "\n",
    "cursor.execute(table_schema_eth)\n",
    "\n",
    "insert_query_eth = \"\"\" INSERT INTO ethereum (datetime, base, amount, currency)\n",
    "VALUES (%(datetime)s, %(base)s, %(amount)s, %(currency)s);\n",
    "\"\"\"\n",
    "\n",
    "cursor.execute(insert_query_eth, eth_dict)\n",
    "\n",
    "connection.commit() \n"
   ]
  },
  {
   "cell_type": "code",
   "execution_count": 35,
   "metadata": {},
   "outputs": [],
   "source": [
    "table_schema_near = (\"\"\"\n",
    "                    CREATE TABLE IF NOT EXISTS near\n",
    "                    (id serial PRIMARY KEY, \n",
    "                     datetime timestamp, \n",
    "                     base varchar(10), \n",
    "                     amount numeric(10,4),\n",
    "                     currency char(3));\n",
    "                    \"\"\")"
   ]
  },
  {
   "cell_type": "code",
   "execution_count": 68,
   "metadata": {},
   "outputs": [],
   "source": [
    "client = Client(api_key, api_secret)\n",
    "coins = ['BTC-USD', 'ETH-USD', 'NEAR-USD']\n",
    "\n",
    "def spot_price(client, c_pair): \n",
    "        # Fetch the spot price for a given currency pair\n",
    "        price_data = client.get_spot_price(currency_pair=c_pair)\n",
    "        return price_data\n",
    "\n",
    "prices = {i: spot_price(client, i) for i in coins}\n"
   ]
  },
  {
   "cell_type": "code",
   "execution_count": 71,
   "metadata": {},
   "outputs": [],
   "source": [
    "prices[\"datetime\"] = datetime.now()"
   ]
  },
  {
   "cell_type": "code",
   "execution_count": 75,
   "metadata": {},
   "outputs": [
    {
     "data": {
      "text/plain": [
       "dict_values([<APIObject @ 0x7fdf81bd74c0> {\n",
       "  \"amount\": \"34679.265\",\n",
       "  \"base\": \"BTC\",\n",
       "  \"currency\": \"USD\"\n",
       "}, <APIObject @ 0x7fdf81b61350> {\n",
       "  \"amount\": \"1858.71\",\n",
       "  \"base\": \"ETH\",\n",
       "  \"currency\": \"USD\"\n",
       "}, <APIObject @ 0x7fdf81bd7dd0> {\n",
       "  \"amount\": \"1.441\",\n",
       "  \"base\": \"NEAR\",\n",
       "  \"currency\": \"USD\"\n",
       "}, datetime.datetime(2023, 11, 7, 9, 0, 55, 189594)])"
      ]
     },
     "execution_count": 75,
     "metadata": {},
     "output_type": "execute_result"
    }
   ],
   "source": [
    "prices.values()"
   ]
  },
  {
   "cell_type": "code",
   "execution_count": 55,
   "metadata": {},
   "outputs": [],
   "source": []
  },
  {
   "cell_type": "code",
   "execution_count": null,
   "metadata": {},
   "outputs": [],
   "source": [
    "table_schema_btc = (\"\"\"\n",
    "                    CREATE TABLE IF NOT EXISTS bitcoin\n",
    "                    (id serial PRIMARY KEY, \n",
    "                     datetime timestamp, \n",
    "                     base varchar(10), \n",
    "                     amount numeric(10,4),\n",
    "                     currency char(3));\n",
    "                    \"\"\")\n",
    "        \n",
    "        table_schema_eth = (\"\"\"\n",
    "                    CREATE TABLE IF NOT EXISTS ethereum\n",
    "                    (id serial PRIMARY KEY, \n",
    "                     datetime timestamp, \n",
    "                     base varchar(10), \n",
    "                     amount numeric(10,4),\n",
    "                     currency char(3));\n",
    "                    \"\"\")\n",
    "        \n",
    "        table_schema_near = (\"\"\"\n",
    "                    CREATE TABLE IF NOT EXISTS near\n",
    "                    (id serial PRIMARY KEY, \n",
    "                     datetime timestamp, \n",
    "                     base varchar(10), \n",
    "                     amount numeric(10,4),\n",
    "                     currency char(3));\n",
    "                    \"\"\")\n",
    "        \n",
    "        tables = [table_schema_btc, table_schema_eth, table_schema_near]\n",
    "\n",
    "        #iterating through create table statements \n",
    "        for t in tables: \n",
    "            cursor.execute(t)\n",
    "        \n",
    "        connection.commit()"
   ]
  },
  {
   "cell_type": "code",
   "execution_count": null,
   "metadata": {},
   "outputs": [],
   "source": [
    "cursor.execute(\"CREATE SCHEMA IF NOT EXISTS crypto;\")\n",
    "cursor.execute(\"GRANT ALL PRIVELEGS ON SCHEMA crypto to postgres;\")\n",
    "connection.commit() "
   ]
  }
 ],
 "metadata": {
  "kernelspec": {
   "display_name": "base",
   "language": "python",
   "name": "python3"
  },
  "language_info": {
   "codemirror_mode": {
    "name": "ipython",
    "version": 3
   },
   "file_extension": ".py",
   "mimetype": "text/x-python",
   "name": "python",
   "nbconvert_exporter": "python",
   "pygments_lexer": "ipython3",
   "version": "3.10.9"
  }
 },
 "nbformat": 4,
 "nbformat_minor": 2
}
