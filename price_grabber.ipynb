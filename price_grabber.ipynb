{
 "cells": [
  {
   "cell_type": "code",
   "execution_count": 1,
   "metadata": {},
   "outputs": [],
   "source": [
    "from coinbase.wallet.client import Client \n",
    "import requests\n",
    "import time \n",
    "import os\n",
    "from dotenv import load_dotenv\n",
    "import psycopg2\n",
    "from datetime import datetime \n",
    "from email.utils import parsedate_to_datetime\n",
    "import pytz\n"
   ]
  },
  {
   "cell_type": "code",
   "execution_count": 2,
   "metadata": {},
   "outputs": [
    {
     "data": {
      "text/plain": [
       "True"
      ]
     },
     "execution_count": 2,
     "metadata": {},
     "output_type": "execute_result"
    }
   ],
   "source": [
    "load_dotenv('./.env')\n"
   ]
  },
  {
   "cell_type": "code",
   "execution_count": 3,
   "metadata": {},
   "outputs": [],
   "source": [
    "api_key = os.getenv(\"api_key\")\n",
    "api_secret = os.getenv(\"api_secret\")\n",
    "db_host = os.getenv(\"DB_HOST\")\n",
    "db_port = os.getenv(\"DB_PORT\")\n",
    "db_name = os.getenv(\"DB_NAME\")\n",
    "db_user = os.getenv(\"DB_USER\")\n",
    "db_password = os.getenv(\"DB_PASSWORD\")\n"
   ]
  },
  {
   "cell_type": "markdown",
   "metadata": {},
   "source": []
  },
  {
   "cell_type": "code",
   "execution_count": 4,
   "metadata": {},
   "outputs": [],
   "source": [
    "#creating connection to railway postgres db: \n",
    "connection = psycopg2.connect(\n",
    "        host = db_host, \n",
    "        database = db_name, \n",
    "        user = db_user, \n",
    "        password = db_password, \n",
    "        port = db_port\n",
    "    )\n",
    "\n",
    "    #initializing cursor\n",
    "cursor = connection.cursor() "
   ]
  },
  {
   "cell_type": "code",
   "execution_count": 5,
   "metadata": {},
   "outputs": [],
   "source": [
    "cursor.execute(\"SELECT 1;\")"
   ]
  },
  {
   "cell_type": "code",
   "execution_count": 6,
   "metadata": {},
   "outputs": [],
   "source": [
    "result = cursor.fetchone()"
   ]
  },
  {
   "cell_type": "code",
   "execution_count": 7,
   "metadata": {},
   "outputs": [
    {
     "name": "stdout",
     "output_type": "stream",
     "text": [
      "(1,)\n"
     ]
    }
   ],
   "source": [
    "print(result) # connection is active "
   ]
  },
  {
   "cell_type": "code",
   "execution_count": 8,
   "metadata": {},
   "outputs": [],
   "source": [
    "#establishing connection to coinbase API\n",
    "client = Client(api_key, api_secret)\n",
    "\n",
    "#pulling price data for ethereum and bitcoin \n",
    "price_eth = client.get_spot_price(currency_pair= \"ETH-USD\")\n",
    "price_btc = client.get_spot_price(currency_pair= \"BTC-USD\")\n",
    "\n",
    "#adding timestamp to dictionaries \n",
    "\n",
    "#price_eth[\"datetime\"] = datetime.now() \n",
    "#price_btc[\"datetime\"] = datetime.now() \n",
    " \n"
   ]
  },
  {
   "cell_type": "code",
   "execution_count": 9,
   "metadata": {},
   "outputs": [
    {
     "data": {
      "text/plain": [
       "<APIObject @ 0x7fdf80d9f9c0> {\n",
       "  \"amount\": \"35082.96\",\n",
       "  \"base\": \"BTC\",\n",
       "  \"currency\": \"USD\"\n",
       "}"
      ]
     },
     "execution_count": 9,
     "metadata": {},
     "output_type": "execute_result"
    }
   ],
   "source": [
    "price_btc"
   ]
  },
  {
   "cell_type": "code",
   "execution_count": 21,
   "metadata": {},
   "outputs": [],
   "source": [
    "btc_dict = {\"datetime\": datetime.now(), \n",
    "            \"base\": price_btc[\"base\"],\n",
    "            \"amount\": price_btc[\"amount\"], \n",
    "            \"currency\": price_btc[\"currency\"]}\n",
    "\n",
    "eth_dict = {\"datetime\": datetime.now(), \n",
    "            \"base\": price_eth[\"base\"],\n",
    "            \"amount\": price_eth[\"amount\"], \n",
    "            \"currency\": price_eth[\"currency\"]}\n",
    "            "
   ]
  },
  {
   "cell_type": "code",
   "execution_count": 22,
   "metadata": {},
   "outputs": [
    {
     "data": {
      "text/plain": [
       "{'datetime': datetime.datetime(2023, 11, 6, 15, 25, 34, 303327),\n",
       " 'base': 'ETH',\n",
       " 'amount': '1906.455',\n",
       " 'currency': 'USD'}"
      ]
     },
     "execution_count": 22,
     "metadata": {},
     "output_type": "execute_result"
    }
   ],
   "source": [
    "eth_dict"
   ]
  },
  {
   "cell_type": "code",
   "execution_count": 13,
   "metadata": {},
   "outputs": [],
   "source": [
    "table_schema_btc = (\"\"\"\n",
    "                    CREATE TABLE IF NOT EXISTS bitcoin\n",
    "                    (id serial PRIMARY KEY, \n",
    "                     datetime timestamp, \n",
    "                     base char(3), \n",
    "                     amount numeric(10,4),\n",
    "                     currency char(3));\n",
    "                    \"\"\")"
   ]
  },
  {
   "cell_type": "code",
   "execution_count": 14,
   "metadata": {},
   "outputs": [],
   "source": [
    "cursor.execute(table_schema_btc)"
   ]
  },
  {
   "cell_type": "code",
   "execution_count": 63,
   "metadata": {},
   "outputs": [],
   "source": [
    "connection.commit()"
   ]
  },
  {
   "cell_type": "code",
   "execution_count": 15,
   "metadata": {},
   "outputs": [],
   "source": [
    "insert_query = \"\"\" INSERT INTO bitcoin (datetime, base, amount, currency)\n",
    "VALUES (%(datetime)s, %(base)s, %(amount)s, %(currency)s);\n",
    "\"\"\""
   ]
  },
  {
   "cell_type": "code",
   "execution_count": 16,
   "metadata": {},
   "outputs": [],
   "source": [
    "cursor.execute(insert_query, btc_dict)"
   ]
  },
  {
   "cell_type": "code",
   "execution_count": 17,
   "metadata": {},
   "outputs": [],
   "source": [
    "connection.commit()"
   ]
  },
  {
   "cell_type": "code",
   "execution_count": 23,
   "metadata": {},
   "outputs": [],
   "source": [
    "#now trying ethereum table and insert statement \n",
    "table_schema_eth = (\"\"\"\n",
    "                    CREATE TABLE IF NOT EXISTS ethereum\n",
    "                    (id serial PRIMARY KEY, \n",
    "                     datetime timestamp, \n",
    "                     base char(3), \n",
    "                     amount numeric(10,4),\n",
    "                     currency char(3));\n",
    "                    \"\"\")\n",
    "\n",
    "cursor.execute(table_schema_eth)\n",
    "\n",
    "insert_query_eth = \"\"\" INSERT INTO ethereum (datetime, base, amount, currency)\n",
    "VALUES (%(datetime)s, %(base)s, %(amount)s, %(currency)s);\n",
    "\"\"\"\n",
    "\n",
    "cursor.execute(insert_query_eth, eth_dict)\n",
    "\n",
    "connection.commit() \n"
   ]
  },
  {
   "cell_type": "code",
   "execution_count": 18,
   "metadata": {},
   "outputs": [
    {
     "ename": "ProgrammingError",
     "evalue": "no results to fetch",
     "output_type": "error",
     "traceback": [
      "\u001b[0;31m---------------------------------------------------------------------------\u001b[0m",
      "\u001b[0;31mProgrammingError\u001b[0m                          Traceback (most recent call last)",
      "\u001b[1;32m/Users/chanks/workspace/coinbase/price_grabber.ipynb Cell 22\u001b[0m line \u001b[0;36m1\n\u001b[0;32m----> <a href='vscode-notebook-cell:/Users/chanks/workspace/coinbase/price_grabber.ipynb#X31sZmlsZQ%3D%3D?line=0'>1</a>\u001b[0m records \u001b[39m=\u001b[39m cursor\u001b[39m.\u001b[39;49mfetchall()\n",
      "\u001b[0;31mProgrammingError\u001b[0m: no results to fetch"
     ]
    }
   ],
   "source": []
  },
  {
   "cell_type": "code",
   "execution_count": null,
   "metadata": {},
   "outputs": [],
   "source": []
  }
 ],
 "metadata": {
  "kernelspec": {
   "display_name": "base",
   "language": "python",
   "name": "python3"
  },
  "language_info": {
   "codemirror_mode": {
    "name": "ipython",
    "version": 3
   },
   "file_extension": ".py",
   "mimetype": "text/x-python",
   "name": "python",
   "nbconvert_exporter": "python",
   "pygments_lexer": "ipython3",
   "version": "3.10.9"
  }
 },
 "nbformat": 4,
 "nbformat_minor": 2
}
